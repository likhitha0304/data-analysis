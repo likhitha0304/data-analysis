{
 "cells": [
  {
   "cell_type": "code",
   "execution_count": 5,
   "id": "49bc369a",
   "metadata": {},
   "outputs": [],
   "source": [
    "import numpy as np"
   ]
  },
  {
   "cell_type": "code",
   "execution_count": 6,
   "id": "de6fd207",
   "metadata": {},
   "outputs": [],
   "source": [
    "y=np.genfromtxt(r\"C:\\Users\\bandr\\Downloads\\train_extended (1).csv\",delimiter=\",\",skip_header=1)"
   ]
  },
  {
   "cell_type": "code",
   "execution_count": 7,
   "id": "cb03b8e4",
   "metadata": {},
   "outputs": [
    {
     "data": {
      "text/plain": [
       "array([[ 1.575     ,  1.225     ,  0.375     , ...,  6.3219385 ,\n",
       "         9.63883   , 10.        ],\n",
       "       [ 1.2375    ,  1.        ,  0.375     , ...,  3.798833  ,\n",
       "         7.654365  , 19.        ],\n",
       "       [ 1.45      ,  1.1625    ,  0.4125    , ...,  7.01650125,\n",
       "         7.257472  , 11.        ],\n",
       "       ...,\n",
       "       [ 1.125     ,  0.9125    ,  0.2875    , ...,  1.984465  ,\n",
       "         3.118445  ,  7.        ],\n",
       "       [ 1.625     ,  1.275     ,  0.4125    , ...,  7.86698625,\n",
       "        10.489315  , 11.        ],\n",
       "       [ 1.5875    ,  1.25      ,  0.3875    , ...,  7.38504475,\n",
       "         8.788345  , 11.        ]])"
      ]
     },
     "execution_count": 7,
     "metadata": {},
     "output_type": "execute_result"
    }
   ],
   "source": [
    "y"
   ]
  },
  {
   "cell_type": "code",
   "execution_count": 8,
   "id": "ac31f6bb",
   "metadata": {},
   "outputs": [
    {
     "name": "stdout",
     "output_type": "stream",
     "text": [
      "Minimum length is:  0.0\n",
      "Maximum length is:  7.58349125\n"
     ]
    }
   ],
   "source": [
    "#1. What is the max & min length\n",
    "min_l = np.min(y[:,0])\n",
    "max_l = np.max(y[:,0])\n",
    "print(\"Minimum length is: \",min_l)\n",
    "print(\"Maximum length is: \",max_l)"
   ]
  },
  {
   "cell_type": "code",
   "execution_count": 12,
   "id": "42132583",
   "metadata": {},
   "outputs": [
    {
     "name": "stdout",
     "output_type": "stream",
     "text": [
      "Difference between min & max lengths are:  7.58349125\n"
     ]
    }
   ],
   "source": [
    "#2. find out the difference b/w min & max lengths\n",
    "min_l = np.min(y[:,0])\n",
    "max_l = np.max(y[:,0])\n",
    "diff = max_l-min_l\n",
    "print(\"Difference between min & max lengths are: \",diff)"
   ]
  },
  {
   "cell_type": "code",
   "execution_count": 13,
   "id": "6773718c",
   "metadata": {},
   "outputs": [
    {
     "data": {
      "text/plain": [
       "array([ 1.31244808,  1.02032036,  0.34602787, 23.12343631,  9.98937025,\n",
       "        4.99318096,  6.63422915,  9.950615  ])"
      ]
     },
     "execution_count": 13,
     "metadata": {},
     "output_type": "execute_result"
    }
   ],
   "source": [
    "#3. find columnwise average\n",
    "def col_avg(d):\n",
    "    return np.sum(d)/len(y)\n",
    "np.apply_along_axis(col_avg,0,y)"
   ]
  },
  {
   "cell_type": "code",
   "execution_count": 21,
   "id": "a23463c9",
   "metadata": {},
   "outputs": [
    {
     "name": "stdout",
     "output_type": "stream",
     "text": [
      "Age of persons of height greater than 0.4:  [11. 14. 13. ... 11. 11. 11.]\n"
     ]
    }
   ],
   "source": [
    "#4. find out all the age whose height is >0.4\n",
    "age = y[:,-1][y[:,2]>0.4]\n",
    "print(\"Age of persons of height greater than 0.4: \",age)"
   ]
  },
  {
   "cell_type": "code",
   "execution_count": 27,
   "id": "4240b349",
   "metadata": {},
   "outputs": [
    {
     "name": "stdout",
     "output_type": "stream",
     "text": [
      "Total shell weight:  1326846\n"
     ]
    }
   ],
   "source": [
    "#6. what is the total shell weight\n",
    "t_s_w = np.round(np.sum(y[:,-2]))\n",
    "print(\"Total shell weight: \",int(t_s_w))"
   ]
  },
  {
   "cell_type": "code",
   "execution_count": 29,
   "id": "893dd438",
   "metadata": {},
   "outputs": [],
   "source": [
    "#9. what is the average height of the persons whose age is between 14 & 19"
   ]
  },
  {
   "cell_type": "code",
   "execution_count": 32,
   "id": "fcf94a32",
   "metadata": {},
   "outputs": [
    {
     "name": "stdout",
     "output_type": "stream",
     "text": [
      "average height of the persons whose age between is 14 & 19:  145820.80188418\n"
     ]
    }
   ],
   "source": [
    "avg_h = y.take(np.where((y[:,7]>=14) & (y[:,7]<=19)))\n",
    "l = np.sum(avg_h)\n",
    "p = np.round((l/len(avg_h)))\n",
    "print(\"average height of the persons whose age between is 14 & 19: \",l)"
   ]
  },
  {
   "cell_type": "code",
   "execution_count": 33,
   "id": "eda8d87a",
   "metadata": {},
   "outputs": [],
   "source": [
    "#10. what is the avg weight if we include shucked weight, visca weight & shell weight"
   ]
  },
  {
   "cell_type": "code",
   "execution_count": 34,
   "id": "6e535b3e",
   "metadata": {},
   "outputs": [
    {
     "name": "stdout",
     "output_type": "stream",
     "text": [
      "Difference between shucked weight and viscera weight:  999237\n"
     ]
    }
   ],
   "source": [
    "shu_wei = np.sum(y[:,4])\n",
    "vis_wei = np.sum(y[:,5])\n",
    "diff = shu_wei-vis_wei\n",
    "print(\"Difference between shucked weight and viscera weight: \",int(diff))"
   ]
  },
  {
   "cell_type": "code",
   "execution_count": null,
   "id": "ac88cfa9",
   "metadata": {},
   "outputs": [],
   "source": []
  }
 ],
 "metadata": {
  "kernelspec": {
   "display_name": "Python 3 (ipykernel)",
   "language": "python",
   "name": "python3"
  },
  "language_info": {
   "codemirror_mode": {
    "name": "ipython",
    "version": 3
   },
   "file_extension": ".py",
   "mimetype": "text/x-python",
   "name": "python",
   "nbconvert_exporter": "python",
   "pygments_lexer": "ipython3",
   "version": "3.11.4"
  }
 },
 "nbformat": 4,
 "nbformat_minor": 5
}
